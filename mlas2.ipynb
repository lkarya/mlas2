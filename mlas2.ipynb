{
 "cells": [
  {
   "cell_type": "code",
   "execution_count": null,
   "id": "43e8294c",
   "metadata": {},
   "outputs": [],
   "source": [
    "# What is the concept of human learning? Please give two examples.\n",
    "It is the form of learning which requires higher order mental processes like thinking, reasoning, intelligence, etc.\n",
    "\n",
    "# What different forms of human learning are there? Are there any machine learning equivalents?\n",
    "Linear regression, decision trees, random forest and support vector machines are some commonly used techniques that \n",
    "are actually examples of supervised learning.\n",
    "\n",
    "# What is machine learning, and how does it work? What are the key responsibilities of machine learning?\n",
    "A machine learning (ML) developer is an expert on using data to training models. \n",
    "The models are then used to automate processes like image classification, speech recognition, and market forecasting. \n",
    "\n",
    "# Define the terms &quot;penalty and reward in the context of reinforcement learning\n",
    "Reinforcement learning is an area of Machine Learning. It is about taking suitable action to maximize reward in a particular situation.\n",
    "\n",
    "# What are the various goals of machine learning? What is the relationship between these and human learning?\n",
    "To make the computers smarter, more intelligent. The more direct objective in this aspect is to develop systems (programs) \n",
    "for specific practical learning tasks in application domains.\n",
    "To dev elop computational models of human learning process and perform computer simulations.\n",
    "\n",
    "# What is the concept of generalization? What function does it play in the machine learning process?\n",
    "Generalization refers to your models ability to adapt properly to new, previously unseen data, \n",
    "drawn from the same distribution as the one used to create the model."
   ]
  }
 ],
 "metadata": {
  "kernelspec": {
   "display_name": "Python 3 (ipykernel)",
   "language": "python",
   "name": "python3"
  },
  "language_info": {
   "codemirror_mode": {
    "name": "ipython",
    "version": 3
   },
   "file_extension": ".py",
   "mimetype": "text/x-python",
   "name": "python",
   "nbconvert_exporter": "python",
   "pygments_lexer": "ipython3",
   "version": "3.9.7"
  }
 },
 "nbformat": 4,
 "nbformat_minor": 5
}
